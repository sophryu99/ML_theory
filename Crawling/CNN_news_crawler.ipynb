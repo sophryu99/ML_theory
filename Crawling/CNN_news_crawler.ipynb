{
 "cells": [
  {
   "cell_type": "code",
   "execution_count": 1,
   "metadata": {},
   "outputs": [],
   "source": [
    "import requests \n",
    "from bs4 import BeautifulSoup\n",
    "\n",
    "from selenium.webdriver.common.keys import Keys\n",
    "from selenium import webdriver\n",
    "\n",
    "import time"
   ]
  },
  {
   "cell_type": "code",
   "execution_count": 2,
   "metadata": {},
   "outputs": [],
   "source": [
    "url = 'https://edition.cnn.com/politics'\n",
    "headers = {'User-Agent': \"Mozilla/5.0 (Macintosh; Intel Mac OS X 11_1_0) AppleWebKit/537.36 (KHTML, like Gecko) Chrome/88.0.4324.182 Safari/537.36\"}\n",
    "\n",
    "res = requests.get(url, headers=headers)\n",
    "# headers 외에도 여러 옵션들이 있지만 그 시간에 selenium을 배우자!\n",
    "# 나는 로봇이 아닙니다\n",
    "\n",
    "soup = BeautifulSoup(res.text, \"lxml\")\n",
    "# 가져온 html문서를 lxml parser를 통해 Beautifulsoup 객체로 만든 것"
   ]
  },
  {
   "cell_type": "code",
   "execution_count": 3,
   "metadata": {},
   "outputs": [
    {
     "name": "stdout",
     "output_type": "stream",
     "text": [
      "<title>CNNPolitics - Political News, Analysis and Opinion</title>\n",
      "CNNPolitics - Political News, Analysis and Opinion\n",
      "<a aria-label=\"CNN\" class=\"Text-sc-1amvtpj-0-a Link-sc-1hkqz5e-0 jlzTwO\" color=\"#0C0C0C\" data-analytics=\"header_top-nav\" href=\"/\" mode=\"light\"><svg aria-hidden=\"true\" class=\"cnn-badge-icon\" fill=\"#CC0000\" height=\"40\" style=\"outline:0\" viewbox=\"0 0 240 240\" width=\"40\" xmlns=\"https://www.w3.org/2000/svg\"><rect fill=\"#fff\" height=\"100%\" width=\"100%\" x=\"0\" y=\"0\"></rect><path d=\"M.31-.07v240h240V-.07ZM86.54,135.29V92.51c0-16.1,20.81-23.83,31.82-5.12.8,1.35,18.14,31.22,18.14,31.22V92.51c0-16.1,20.8-23.83,31.81-5.12.8,1.35,18.14,31.22,18.14,31.22V76.79h10.38V147a2.11,2.11,0,0,1-1.51,2.14c-1.1.3-2.26-.38-3.11-1.82-.17-.28-9-15.46-17.48-30.13L159.17,90.4c-2.18-3.7-5.43-4.35-7.74-3.72a6.23,6.23,0,0,0-4.55,6.13V147a2.12,2.12,0,0,1-1.51,2.14c-1.11.3-2.27-.38-3.11-1.82-.15-.25-8.34-14.36-16.25-28-10.08-17.38-16.7-28.78-16.8-28.95-2.18-3.71-5.44-4.35-7.77-3.72a6.24,6.24,0,0,0-4.56,6.13v53.05a2.9,2.9,0,0,1-2.72,2.71H67.23a28.64,28.64,0,0,1,0-57.28h14v10.36H67.35a18.28,18.28,0,1,0,0,36.56H83.68A2.84,2.84,0,0,0,86.54,135.29Zm124.77,12.05c0,16.1-20.81,23.83-31.82,5.13-.79-1.35-18.14-31.23-18.14-31.23v26.1c0,16.1-20.8,23.83-31.81,5.13-.8-1.35-18.14-31.23-18.14-31.23v24.61c0,11.17-6.63,17.22-17,17.22H67.25a43.14,43.14,0,0,1,0-86.28h14V87.15h-14a32.78,32.78,0,1,0,0,65.56H94.16a7,7,0,0,0,6.86-6.85V92.81a2.1,2.1,0,0,1,1.51-2.13c1.1-.3,2.26.38,3.11,1.82l16.79,28.93c9.76,16.83,16.17,27.88,16.25,28,2.19,3.7,5.45,4.35,7.78,3.71A6.22,6.22,0,0,0,151,147V92.82a2.11,2.11,0,0,1,1.49-2.14c1.09-.3,2.24.38,3.08,1.82l15.56,26.81,17.49,30.15c1.71,2.9,4.09,3.93,6.16,3.93a6,6,0,0,0,1.61-.22A6.23,6.23,0,0,0,201,147V76.79h10.34Z\" transform=\"translate(-0.31 0.07)\"></path></svg></a>\n",
      "{'href': '/', 'aria-label': 'CNN', 'data-analytics': 'header_top-nav', 'color': '#0C0C0C', 'mode': 'light', 'class': ['Text-sc-1amvtpj-0-a', 'Link-sc-1hkqz5e-0', 'jlzTwO']}\n",
      "/\n"
     ]
    }
   ],
   "source": [
    "print(soup.title) # title element에서 정보를 다 가져온다.\n",
    "print(soup.title.get_text()) # title에 있는 text만 빼온다.\n",
    "print(soup.a) # soup 객체에서 첫 번째로 발견되는 a element를 가져온다.\n",
    "print(soup.a.attrs) # a element의 attributes들을 보여준다.\n",
    "print(soup.a[\"href\"])  # a element의 \"href\" 속성값만 가져온다."
   ]
  },
  {
   "cell_type": "code",
   "execution_count": 10,
   "metadata": {},
   "outputs": [
    {
     "name": "stdout",
     "output_type": "stream",
     "text": [
      "Here's where Biden's Cabinet nominees stand\n",
      "http://cnn.it/3qJ5ksh\n",
      "The executive actions President Biden has signed so far\n",
      "http://cnn.it/2YjKMKJ\n",
      "What the West Wing office layout says about the Biden administration\n",
      "https://edition.cnn.com/2021/01/25/politics/west-wing-offices-biden/index.html\n",
      "Biden vowed his Cabinet would look like the country. Does it?\n",
      "http://cnn.it/38Z7cHv\n",
      "On the campaign trail, Biden pledged to end gun violence\n",
      "https://edition.cnn.com/videos/politics/2021/01/18/joe-biden-on-gun-violence-mh-orig.cnn/video/playlists/bidens-promises-major-policy-issues/\n",
      "How Biden has promised to improve American education\n",
      "https://edition.cnn.com/videos/politics/2021/01/19/joe-biden-on-education-mh-orig.cnn/video/playlists/bidens-promises-major-policy-issues/\n",
      "What Biden said he'd do as President to shift foreign policy\n",
      "https://edition.cnn.com/videos/politics/2021/01/19/joe-biden-on-foreign-relations-mh-orig.cnn/video/playlists/bidens-promises-major-policy-issues/\n",
      "What Biden has said he'll do about immigration\n",
      "https://edition.cnn.com/videos/politics/2021/01/19/joe-biden-on-immigration-mh-orig.cnn/video/playlists/bidens-promises-major-policy-issues/\n",
      "What Biden said he would do for the Covid-19 economy\n",
      "https://edition.cnn.com/videos/politics/2021/01/19/joe-biden-on-covid-19-mh-orig.cnn/video/playlists/bidens-promises-major-policy-issues/\n",
      "Biden on health care: 'We need a public option'\n",
      "https://edition.cnn.com/videos/politics/2021/01/18/joe-biden-on-health-care-mh-orig.cnn/video/playlists/bidens-promises-major-policy-issues/\n",
      "What Biden said he'd do as President to boost the economy\n",
      "https://edition.cnn.com/videos/politics/2021/01/18/joe-biden-on-the-economy-mh-orig.cnn/video/playlists/bidens-promises-major-policy-issues/\n",
      "These were Biden's promises on the climate crisis\n",
      "https://edition.cnn.com/videos/politics/2021/01/13/joe-biden-on-the-climate-crisis-mh-orig.cnn/video/playlists/bidens-promises-major-policy-issues/\n",
      "Hear Biden's promises on race equity before he took office\n",
      "https://edition.cnn.com/videos/politics/2021/01/13/joe-biden-on-race-equity-police-reform-mh-orig.cnn/video/playlists/bidens-promises-major-policy-issues/\n",
      "Kaitlan Collins\n",
      "https://edition.cnn.com/profiles/kaitlan-collins\n",
      "Phil Mattingly \n",
      "https://edition.cnn.com/profiles/phil-mattingliy-profile\n",
      "Arlette Saenz\n",
      "https://edition.cnn.com/profiles/arlette-saenz\n",
      "Jeremy Diamond\n",
      "https://edition.cnn.com/profiles/jeremy-diamond\n",
      "John Harwood\n",
      "https://edition.cnn.com/profiles/john-harwood\n",
      "MJ Lee\n",
      "https://edition.cnn.com/profiles/mj-lee\n",
      "Kate Bennett\n",
      "https://edition.cnn.com/profiles/kate-bennett\n",
      "Kevin Liptak\n",
      "https://edition.cnn.com/profiles/kevin-liptak-profile\n",
      "Jasmine Wright\n",
      "https://edition.cnn.com/profiles/jasmine-wright\n",
      "Kate Sullivan\n",
      "https://edition.cnn.com/profiles/kate-sullivan\n",
      "In pictures: The inauguration of Joe Biden\n",
      "https://edition.cnn.com/2021/01/19/politics/gallery/joe-biden-inauguration-photos/index.html\n"
     ]
    }
   ],
   "source": [
    "url = 'https://edition.cnn.com/specials/politics/joe-biden-news'\n",
    "res = requests.get(url)\n",
    "soup = BeautifulSoup(res.text, \"lxml\")\n",
    "cartoons = soup.find_all(\"h3\", attrs={\"class\":\"cd__headline\"})\n",
    "base_url = 'https://edition.cnn.com'\n",
    "check_url = \"http://\"\n",
    "\n",
    "for cartoon in cartoons:\n",
    "    print(cartoon.get_text())\n",
    "    if check_url in cartoon.a['href']:\n",
    "        print(cartoon.a[\"href\"])\n",
    "    else:\n",
    "        print(base_url+ cartoon.a[\"href\"])"
   ]
  },
  {
   "cell_type": "code",
   "execution_count": 9,
   "metadata": {
    "collapsed": true,
    "jupyter": {
     "outputs_hidden": true
    }
   },
   "outputs": [
    {
     "name": "stdout",
     "output_type": "stream",
     "text": [
      "<a data-vr-track=\"\" href=\"http://cnn.it/3qJ5ksh\"><span class=\"cd__headline-text vid-left-enabled\">Here's where Biden's Cabinet nominees stand</span><span class=\"cd__headline-icon cnn-icon\"></span></a>\n",
      "<a data-vr-track=\"\" href=\"http://cnn.it/2YjKMKJ\"><span class=\"cd__headline-text vid-left-enabled\">The executive actions President Biden has signed so far</span><span class=\"cd__headline-icon cnn-icon\"></span></a>\n",
      "<a href=\"/2021/01/25/politics/west-wing-offices-biden/index.html\"><span class=\"cd__headline-text vid-left-enabled\">What the West Wing office layout says about the Biden administration</span><span class=\"cd__headline-icon cnn-icon\"></span></a>\n",
      "<a data-vr-track=\"\" href=\"http://cnn.it/38Z7cHv\"><span class=\"cd__headline-text vid-left-enabled\">Biden vowed his Cabinet would look like the country. Does it?</span><span class=\"cd__headline-icon cnn-icon\"></span></a>\n",
      "<a href=\"/videos/politics/2021/01/18/joe-biden-on-gun-violence-mh-orig.cnn/video/playlists/bidens-promises-major-policy-issues/\"><span class=\"cd__headline-text vid-left-enabled\">On the campaign trail, Biden pledged to end gun violence</span><span class=\"cd__headline-icon cnn-icon\"></span></a>\n",
      "<a href=\"/videos/politics/2021/01/19/joe-biden-on-education-mh-orig.cnn/video/playlists/bidens-promises-major-policy-issues/\"><span class=\"cd__headline-text vid-left-enabled\">How Biden has promised to improve American education</span><span class=\"cd__headline-icon cnn-icon\"></span></a>\n",
      "<a href=\"/videos/politics/2021/01/19/joe-biden-on-foreign-relations-mh-orig.cnn/video/playlists/bidens-promises-major-policy-issues/\"><span class=\"cd__headline-text vid-left-enabled\">What Biden said he'd do as President to shift foreign policy</span><span class=\"cd__headline-icon cnn-icon\"></span></a>\n",
      "<a href=\"/videos/politics/2021/01/19/joe-biden-on-immigration-mh-orig.cnn/video/playlists/bidens-promises-major-policy-issues/\"><span class=\"cd__headline-text vid-left-enabled\">What Biden has said he'll do about immigration</span><span class=\"cd__headline-icon cnn-icon\"></span></a>\n",
      "<a href=\"/videos/politics/2021/01/19/joe-biden-on-covid-19-mh-orig.cnn/video/playlists/bidens-promises-major-policy-issues/\"><span class=\"cd__headline-text vid-left-enabled\">What Biden said he would do for the Covid-19 economy</span><span class=\"cd__headline-icon cnn-icon\"></span></a>\n",
      "<a href=\"/videos/politics/2021/01/18/joe-biden-on-health-care-mh-orig.cnn/video/playlists/bidens-promises-major-policy-issues/\"><span class=\"cd__headline-text vid-left-enabled\">Biden on health care: 'We need a public option'</span><span class=\"cd__headline-icon cnn-icon\"></span></a>\n",
      "<a href=\"/videos/politics/2021/01/18/joe-biden-on-the-economy-mh-orig.cnn/video/playlists/bidens-promises-major-policy-issues/\"><span class=\"cd__headline-text vid-left-enabled\">What Biden said he'd do as President to boost the economy</span><span class=\"cd__headline-icon cnn-icon\"></span></a>\n",
      "<a href=\"/videos/politics/2021/01/13/joe-biden-on-the-climate-crisis-mh-orig.cnn/video/playlists/bidens-promises-major-policy-issues/\"><span class=\"cd__headline-text vid-left-enabled\">These were Biden's promises on the climate crisis</span><span class=\"cd__headline-icon cnn-icon\"></span></a>\n",
      "<a href=\"/videos/politics/2021/01/13/joe-biden-on-race-equity-police-reform-mh-orig.cnn/video/playlists/bidens-promises-major-policy-issues/\"><span class=\"cd__headline-text vid-left-enabled\">Hear Biden's promises on race equity before he took office</span><span class=\"cd__headline-icon cnn-icon\"></span></a>\n",
      "<a href=\"/profiles/kaitlan-collins\"><span class=\"cd__headline-text vid-left-enabled\">Kaitlan Collins</span><span class=\"cd__headline-icon cnn-icon\"></span></a>\n",
      "<a href=\"/profiles/phil-mattingliy-profile\"><span class=\"cd__headline-text vid-left-enabled\">Phil Mattingly </span><span class=\"cd__headline-icon cnn-icon\"></span></a>\n",
      "<a href=\"/profiles/arlette-saenz\"><span class=\"cd__headline-text vid-left-enabled\">Arlette Saenz</span><span class=\"cd__headline-icon cnn-icon\"></span></a>\n",
      "<a href=\"/profiles/jeremy-diamond\"><span class=\"cd__headline-text vid-left-enabled\">Jeremy Diamond</span><span class=\"cd__headline-icon cnn-icon\"></span></a>\n",
      "<a href=\"/profiles/john-harwood\"><span class=\"cd__headline-text vid-left-enabled\">John Harwood</span><span class=\"cd__headline-icon cnn-icon\"></span></a>\n",
      "<a href=\"/profiles/mj-lee\"><span class=\"cd__headline-text vid-left-enabled\">MJ Lee</span><span class=\"cd__headline-icon cnn-icon\"></span></a>\n",
      "<a href=\"/profiles/kate-bennett\"><span class=\"cd__headline-text vid-left-enabled\">Kate Bennett</span><span class=\"cd__headline-icon cnn-icon\"></span></a>\n",
      "<a href=\"/profiles/kevin-liptak-profile\"><span class=\"cd__headline-text vid-left-enabled\">Kevin Liptak</span><span class=\"cd__headline-icon cnn-icon\"></span></a>\n",
      "<a href=\"/profiles/jasmine-wright\"><span class=\"cd__headline-text vid-left-enabled\">Jasmine Wright</span><span class=\"cd__headline-icon cnn-icon\"></span></a>\n",
      "<a href=\"/profiles/kate-sullivan\"><span class=\"cd__headline-text vid-left-enabled\">Kate Sullivan</span><span class=\"cd__headline-icon cnn-icon\"></span></a>\n",
      "<a href=\"/2021/01/19/politics/gallery/joe-biden-inauguration-photos/index.html\"><span class=\"cd__headline-text vid-left-enabled\">In pictures: The inauguration of Joe Biden</span><span class=\"cd__headline-icon cnn-icon\"></span></a>\n"
     ]
    },
    {
     "ename": "AttributeError",
     "evalue": "ResultSet object has no attribute 'a'. You're probably treating a list of elements like a single element. Did you call find_all() when you meant to call find()?",
     "output_type": "error",
     "traceback": [
      "\u001b[0;31m---------------------------------------------------------------------------\u001b[0m",
      "\u001b[0;31mAttributeError\u001b[0m                            Traceback (most recent call last)",
      "\u001b[0;32m<ipython-input-9-b9a0f8bd84ef>\u001b[0m in \u001b[0;36m<module>\u001b[0;34m\u001b[0m\n\u001b[1;32m     11\u001b[0m \u001b[0;32mfor\u001b[0m \u001b[0mi\u001b[0m \u001b[0;32min\u001b[0m \u001b[0mnews\u001b[0m\u001b[0;34m:\u001b[0m\u001b[0;34m\u001b[0m\u001b[0;34m\u001b[0m\u001b[0m\n\u001b[1;32m     12\u001b[0m     \u001b[0mprint\u001b[0m\u001b[0;34m(\u001b[0m\u001b[0mi\u001b[0m\u001b[0;34m.\u001b[0m\u001b[0ma\u001b[0m\u001b[0;34m)\u001b[0m\u001b[0;34m\u001b[0m\u001b[0;34m\u001b[0m\u001b[0m\n\u001b[0;32m---> 13\u001b[0;31m \u001b[0mprint\u001b[0m\u001b[0;34m(\u001b[0m\u001b[0mnews\u001b[0m\u001b[0;34m.\u001b[0m\u001b[0ma\u001b[0m\u001b[0;34m)\u001b[0m\u001b[0;34m\u001b[0m\u001b[0;34m\u001b[0m\u001b[0m\n\u001b[0m",
      "\u001b[0;32m~/opt/anaconda3/envs/Crawling/lib/python3.7/site-packages/bs4/element.py\u001b[0m in \u001b[0;36m__getattr__\u001b[0;34m(self, key)\u001b[0m\n\u001b[1;32m   2172\u001b[0m         \u001b[0;34m\"\"\"Raise a helpful exception to explain a common code fix.\"\"\"\u001b[0m\u001b[0;34m\u001b[0m\u001b[0;34m\u001b[0m\u001b[0m\n\u001b[1;32m   2173\u001b[0m         raise AttributeError(\n\u001b[0;32m-> 2174\u001b[0;31m             \u001b[0;34m\"ResultSet object has no attribute '%s'. You're probably treating a list of elements like a single element. Did you call find_all() when you meant to call find()?\"\u001b[0m \u001b[0;34m%\u001b[0m \u001b[0mkey\u001b[0m\u001b[0;34m\u001b[0m\u001b[0;34m\u001b[0m\u001b[0m\n\u001b[0m\u001b[1;32m   2175\u001b[0m         )\n",
      "\u001b[0;31mAttributeError\u001b[0m: ResultSet object has no attribute 'a'. You're probably treating a list of elements like a single element. Did you call find_all() when you meant to call find()?"
     ]
    }
   ],
   "source": [
    "url = 'https://edition.cnn.com/specials/politics/joe-biden-news'\n",
    "res = requests.get(url)\n",
    "soup = BeautifulSoup(res.text, \"lxml\")\n",
    "news = soup.find_all(\"h3\", attrs={\"class\":\"cd__headline\"})\n",
    "\n",
    "# for i in range(0, 2)\n",
    "#     detail_class = \"cn__column cn__column--2np{} cn__column--3np{} cn__column--4np{}\".format(i, j, k)\n",
    "#     print(news.get_text())\n",
    "#     print(news.a[\"href\"])\n",
    "\n",
    "for i in news:\n",
    "    print(i.a)\n"
   ]
  },
  {
   "cell_type": "code",
   "execution_count": 25,
   "metadata": {},
   "outputs": [
    {
     "name": "stdout",
     "output_type": "stream",
     "text": [
      "Here's where Biden's Cabinet nominees stand\n"
     ]
    }
   ],
   "source": [
    "url = 'https://edition.cnn.com/specials/politics/joe-biden-news'\n",
    "res = requests.get(url)\n",
    "soup = BeautifulSoup(res.text, \"lxml\")\n",
    "news = soup.find(\"h3\", attrs={\"class\":\"cd__headline\"}).find(\"span\", attrs = {\"class\": \"cd__headline-text vid-left-enabled\"})\n",
    "base_url = 'https://edition.cnn.com'\n",
    "check_url = \"http://\"\n",
    "\n",
    "for i in news:\n",
    "    #print(i.get_text())\n",
    "    print(i)\n",
    "    "
   ]
  },
  {
   "cell_type": "code",
   "execution_count": 69,
   "metadata": {},
   "outputs": [
    {
     "name": "stdout",
     "output_type": "stream",
     "text": [
      "<ul class=\"cn cn-list-xs cn--idx-0 cn-coverageContainer_AAB13E2E-907B-4A68-8F63-353F46C92F10 cn--expandable\" data-bundle=\"listexpandable\" data-layout=\"list-xs\"></ul>\n"
     ]
    }
   ],
   "source": [
    "import requests\n",
    "from bs4 import BeautifulSoup\n",
    "import bs4.element\n",
    "\n",
    "url = 'https://us.cnn.com/us'\n",
    "\n",
    "headers = {'User-Agent': \"Mozilla/5.0 (Macintosh; Intel Mac OS X 11_1_0) AppleWebKit/537.36 (KHTML, like Gecko) Chrome/88.0.4324.182 Safari/537.36\"}\n",
    "res = requests.get(url, headers = headers)\n",
    "soup = BeautifulSoup(res.text,'lxml')\n",
    "#print(soup)\n",
    "# 해당 분야 상위 뉴스 3개 가져오기\n",
    "lis4 = soup.find('section', class_='zn zn-us-zone-2 zn-balanced zn--idx-1 zn--ordinary t-light zn-has-multiple-containers zn-has-4-containers').find(\"div\", class_= \"column zn__column--idx-0\")\n",
    "lis3 = lis4.find('ul', class_='cn cn-list-xs cn--idx-0 cn-coverageContainer_AAB13E2E-907B-4A68-8F63-353F46C92F10 cn--expandable')\n",
    "print(lis3)\n",
    "\n",
    "# for li in lis3:\n",
    "#     # title : 뉴스 제목, news_url : 뉴스 URL, image_url : 이미지 URL\n",
    "#     news_info = {\n",
    "#         \"title\" : li.img.attrs.get('alt') if li.img else li.a.text.replace(\"\\n\", \"\").replace(\"\\t\",\"\").replace(\"\\r\",\"\") , \n",
    "#         \"date\" : li.find(class_=\"date\").text,\n",
    "#         \"news_url\" : li.a.attrs.get('href'),\n",
    "#     }\n",
    "#     print(news_info)"
   ]
  },
  {
   "cell_type": "code",
   "execution_count": null,
   "metadata": {},
   "outputs": [],
   "source": []
  }
 ],
 "metadata": {
  "kernelspec": {
   "display_name": "Python 3",
   "language": "python",
   "name": "python3"
  },
  "language_info": {
   "codemirror_mode": {
    "name": "ipython",
    "version": 3
   },
   "file_extension": ".py",
   "mimetype": "text/x-python",
   "name": "python",
   "nbconvert_exporter": "python",
   "pygments_lexer": "ipython3",
   "version": "3.8.5"
  }
 },
 "nbformat": 4,
 "nbformat_minor": 5
}
